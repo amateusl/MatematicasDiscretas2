{
  "metadata": {
    "language_info": {
      "codemirror_mode": {
        "name": "python",
        "version": 3
      },
      "file_extension": ".py",
      "mimetype": "text/x-python",
      "name": "python",
      "nbconvert_exporter": "python",
      "pygments_lexer": "ipython3",
      "version": "3.8"
    },
    "kernelspec": {
      "name": "python",
      "display_name": "Python (Pyodide)",
      "language": "python"
    }
  },
  "nbformat_minor": 4,
  "nbformat": 4,
  "cells": [
    {
      "cell_type": "code",
      "source": "n = 25",
      "metadata": {},
      "execution_count": null,
      "outputs": []
    },
    {
      "cell_type": "code",
      "source": "# Online Python compiler (interpreter) to run Python online.\n# Write Python 3 code in this online editor and run it.\ndef suma_cuadrados(n):\n    # Si el número es 0 o 1, regresa el número\n    if n == 0 or n == 1:\n        return n\n    \n    # Crea una lista de resultados usando una comprensión de lista\n    resultados = [suma_cuadrados(n - i*2) + 1 for i in range(1, int(n*0.5) + 1)]\n    \n    # Retorna el valor mínimo en la lista de resultados\n    return min(resultados)\n\n\n# Ejemplo de uso\nn = 25\nprint(suma_cuadrados(n))",
      "metadata": {},
      "execution_count": null,
      "outputs": []
    }
  ]
}