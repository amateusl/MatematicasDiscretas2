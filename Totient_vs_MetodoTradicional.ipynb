{
  "metadata": {
    "language_info": {
      "codemirror_mode": {
        "name": "python",
        "version": 3
      },
      "file_extension": ".py",
      "mimetype": "text/x-python",
      "name": "python",
      "nbconvert_exporter": "python",
      "pygments_lexer": "ipython3",
      "version": "3.8"
    },
    "kernelspec": {
      "name": "python",
      "display_name": "Python (Pyodide)",
      "language": "python"
    }
  },
  "nbformat_minor": 4,
  "nbformat": 4,
  "cells": [
    {
      "cell_type": "markdown",
      "source": "En los siguientes dos códigos podemos evidenciar de manera concreta el tiempo que se da por el método tradicional de comprobar 1 a 1, vs. Totient de Euler.",
      "metadata": {}
    },
    {
      "cell_type": "markdown",
      "source": "Este primer código pertenece al realizado con Totient de Euler",
      "metadata": {}
    },
    {
      "cell_type": "code",
      "source": "n = 24",
      "metadata": {},
      "execution_count": null,
      "outputs": []
    },
    {
      "cell_type": "code",
      "source": "import math\nimport time\n\n# Calcular la función totient para un entero dado n\ndef totient(n):\n    if n == 1:\n        return 1\n\n    # Descomponer n en factores primos\n    factors = []\n    i = 2\n    while i * i <= n:\n        if n % i:\n            i += 1\n        else:\n            n //= i\n            factors.append(i)\n    if n > 1:\n        factors.append(n)\n\n    # Calcular el totient para cada factor primo\n    totients = []\n    for p in set(factors):\n        k = factors.count(p)\n        totients.append(p**(k-1) * (p-1))\n\n    # Multiplique los totients juntos para obtener el resultado final\n    result = 1\n    for t in totients:\n        result *= t\n\n    return result\n\n# se prueba:\nn = 24\nprint(f\"El totient de {n} es {totient(n)}\")\n\n# tiempo\nstart_time = time.perf_counter()\ntotient(n)\nend_time = time.perf_counter()\nelapsed_time = end_time - start_time\nprint(f\"La funcion totien tardo  {elapsed_time:.6f} segundos en ejecutarse\")",
      "metadata": {
        "trusted": true
      },
      "execution_count": 3,
      "outputs": [
        {
          "name": "stdout",
          "text": "El totient de 24 es 8\nLa funcion totien tardo  0.000000 segundos en ejecutarse\n",
          "output_type": "stream"
        }
      ]
    },
    {
      "cell_type": "markdown",
      "source": "Este primer código pertenece al realizado con Metodo Tradicional",
      "metadata": {}
    },
    {
      "cell_type": "code",
      "source": "p=24",
      "metadata": {},
      "execution_count": null,
      "outputs": []
    },
    {
      "cell_type": "code",
      "source": "# Online Python compiler (interpreter) to run Python online.\n# Write Python 3 code in this online editor and run it.\nimport time\n\n# Esta función calcula el máximo común divisor de dos números a y b\ndef maximo_comun(a, b):\n    if b == 0:\n        return a\n    else:\n        return maximo_comun(b, a % b)\n\n#Esta función cuenta el número de enteros en el rango [1, n) que son coprimos con n\ndef contar_coprimos(n):\n    count = 0\n    for i in range(1, n):\n        if maximo_comun(i, n) == 1:\n            count += 1\n    return count\n\n# Pruebe la función con una entrada de ejemplo\np = 24\nprint(f\"Hay {contar_coprimos(p)} coprimos menores que {p}\")\n\n# Medir el tiempo necesario para ejecutar la función.\nstart_time = time.perf_counter()\ncontar_coprimos(p)\nend_time = time.perf_counter()\nelapsed_time = end_time - start_time\nprint(f\"La función count_coprimes tomó {elapsed_time:.6f} segundos en ejecutar\")",
      "metadata": {
        "trusted": true
      },
      "execution_count": 4,
      "outputs": [
        {
          "name": "stdout",
          "text": "Hay 8 coprimos menores que 24\nLa función count_coprimes tomó 0.001000 segundos en ejecutar\n",
          "output_type": "stream"
        }
      ]
    }
  ]
}