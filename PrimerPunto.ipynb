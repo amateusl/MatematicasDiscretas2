{
  "metadata": {
    "language_info": {
      "codemirror_mode": {
        "name": "python",
        "version": 3
      },
      "file_extension": ".py",
      "mimetype": "text/x-python",
      "name": "python",
      "nbconvert_exporter": "python",
      "pygments_lexer": "ipython3",
      "version": "3.8"
    },
    "kernelspec": {
      "name": "python",
      "display_name": "Python (Pyodide)",
      "language": "python"
    }
  },
  "nbformat_minor": 4,
  "nbformat": 4,
  "cells": [
    {
      "cell_type": "markdown",
      "source": "¿Existen enteros  a  y  b  tal que  a+b=544  y cuyo máximo común divisor es 11?.",
      "metadata": {}
    },
    {
      "cell_type": "code",
      "source": "def euclides(a, b):\n    # Algoritmo de Euclides para encontrar el máximo común divisor\n    while b != 0:\n        a, b = b, a % b\n    return a\n\ndef encontrar_enteros_suma_y_mcd(sum, mcd):\n    # Verificar si la suma es par\n    if sum % 2 == 1:\n        print(\"La suma debe ser par.\")\n        return\n\n    # Generar los valores de a que son válidos\n    valores_a = (a for a in range(1, sum) if sum - a > a)\n\n    # Buscar los enteros a y b\n    for a in valores_a:\n        b = sum - a\n        if euclides(a, b) == mcd:\n            print(f\"Los enteros a y b son: {a} y {b}\")\n            return\n\n    # Si no se encontraron enteros a y b, imprimir un mensaje\n    print(\"No se encontraron enteros a y b que satisfagan las condiciones.\")\n\n# Agregar comentarios al código\n# Llamar a la función con los argumentos 544 y 11\nencontrar_enteros_suma_y_mcd(544, 11)",
      "metadata": {
        "trusted": true
      },
      "execution_count": 1,
      "outputs": [
        {
          "name": "stdout",
          "text": "No se encontraron enteros a y b que satisfagan las condiciones.\n",
          "output_type": "stream"
        }
      ]
    },
    {
      "cell_type": "code",
      "source": "",
      "metadata": {},
      "execution_count": null,
      "outputs": []
    }
  ]
}