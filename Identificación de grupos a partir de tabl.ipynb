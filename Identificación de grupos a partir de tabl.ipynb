{
  "metadata": {
    "language_info": {
      "codemirror_mode": {
        "name": "python",
        "version": 3
      },
      "file_extension": ".py",
      "mimetype": "text/x-python",
      "name": "python",
      "nbconvert_exporter": "python",
      "pygments_lexer": "ipython3",
      "version": "3.8"
    },
    "kernelspec": {
      "name": "python",
      "display_name": "Python (Pyodide)",
      "language": "python"
    }
  },
  "nbformat_minor": 4,
  "nbformat": 4,
  "cells": [
    {
      "cell_type": "markdown",
      "source": "<h1>Encontrar si una tabla es un Grupo</h1>",
      "metadata": {}
    },
    {
      "cell_type": "markdown",
      "source": "De primera manera planteamos un conjunto base y una tabla armada en un diccionario para el ejemplo: ",
      "metadata": {}
    },
    {
      "cell_type": "code",
      "source": "item={1,2,3,4}\n\nmatriz={(1,1):1,(1,2):2,(1,3):3,(1,4):4,\n       (2,1):2,(2,2):4,(2,3):1,(2,4):3,\n      (3,1):3,(3,2):1,(3,3):4,(3,4):2,\n      (4,1):4,(4,2):3,(4,3):2,(4,4):1}",
      "metadata": {
        "trusted": true
      },
      "execution_count": 10,
      "outputs": []
    },
    {
      "cell_type": "markdown",
      "source": "Teniendose como base lo anterior, analizamos lo que planteamos realizar y para eso necesitamos tener como base la definicion.\n\n¿Que es un grupo?\n\nun conjunto G junto con una operaci´on que satisface las siguientes propiedades:\n\n1.Es cerrado para la operaci´on : a,b ∈ G, entonces, ab ∈ G.\n\n2.Existe un elemento identidad denotado por id: a ∈ G, entonces, aid = ida = a\n\n3.Todo elemento tiene un inverso. a ∈ G, entonces, ∃b ∈ Gtal que a°b=b°a=id\n\n4.La operacion es asociativa :a,b,c ∈ G, entonces,(ab)c = a(bc)\n\n\n\n\ncon base en lo anterior procedemos a realizar el codigo suficiente para cuplir con el objetivo de saber si lo propuesto anteriormente es o no un grupo.\n\n",
      "metadata": {}
    },
    {
      "cell_type": "markdown",
      "source": "1.Como primer paso analizaremos si la anterior tabla es cerrada:",
      "metadata": {}
    },
    {
      "cell_type": "code",
      "source": "def cerrada(matriz, item):\n  for i in item:\n    for j in item:\n      if matriz[i,j] in item or matriz[j,i]in item:\n        return false\n  return True",
      "metadata": {
        "trusted": true
      },
      "execution_count": 12,
      "outputs": []
    },
    {
      "cell_type": "markdown",
      "source": "De lo anterior codigo podemos evidenciar una funcion llamada cerrada, esta funcion tiene como principal objetivo verificar si los valores dentro de la tabla estan dentro de los valores mandados como item, al estarlos, nos dara ese valor de verdad que nos da a entender que es cerrada.",
      "metadata": {}
    },
    {
      "cell_type": "markdown",
      "source": "2.Como segundo paso analizamos si existe un elemento identidad o valor neutro .",
      "metadata": {}
    },
    {
      "cell_type": "code",
      "source": "def base(matriz,item):\n  neutro=None\n  for i in item:\n    NeutroE = True\n    for j in item:\n      if matriz[(i,j)]!=j or matriz[(j,i)]!=j:\n        NeutroE = False\n        break\n    if NeutroE:\n      neutro=i\n      return neutro",
      "metadata": {
        "trusted": true
      },
      "execution_count": 13,
      "outputs": []
    },
    {
      "cell_type": "markdown",
      "source": "De lo anterior podemos observar que la funcion base nos muestra un recorrido de elementos.\nEste recorrido de elementos tiene la funcion de comprobar si el indice que corresponde a cada fila y cada columna genera que se de esa misma reflexion entre fila y columna, comprobandose asi si se posee ese elemento con el cual todo numero \"Multiplicado\" de la forma a*e produce su mismo resultado o reflexion (a*e=a), obteniendose asi pues de lo anterior ese numero \"e\" que produce la formula a*e=a",
      "metadata": {}
    },
    {
      "cell_type": "markdown",
      "source": "3.Como tercer paso analizamos si posee un inverso.",
      "metadata": {}
    },
    {
      "cell_type": "code",
      "source": "neu= base(matriz,item)\nfor i in item:\n  for j in item:\n    if  matriz[(i,j)]==neu:\n      print(matriz[i,j],i,j)",
      "metadata": {},
      "execution_count": null,
      "outputs": []
    },
    {
      "cell_type": "markdown",
      "source": "Usandose como base una funcion ya realizada anteriormente (neutro o identidad), podemos deducir el inverso comparandose si cada fila y columna posee ese numero neutro que ayuda a que se genere el inverso.",
      "metadata": {
        "jupyter": {
          "source_hidden": true
        }
      }
    },
    {
      "cell_type": "markdown",
      "source": "4.Como cuarto pasa analizamos si posee asosiatividad",
      "metadata": {}
    },
    {
      "cell_type": "code",
      "source": "def asosi(matriz,item):\n  for i in item:\n    for j in item:\n      for k in item:\n        if matriz[(i,matriz[(i,k)])]!=matriz[(matriz[i,j]),k]:\n              return False\n  return True",
      "metadata": {},
      "execution_count": null,
      "outputs": []
    },
    {
      "cell_type": "markdown",
      "source": "El anterior codigo nos muestra como se quiere dar a cumplir la igualdad de la formula a*(b*c) =(a*b)*c.\nSe usan for anidados con fin de que se de la formula propuesta.",
      "metadata": {}
    },
    {
      "cell_type": "markdown",
      "source": "Asi de manera concreta con esos 4 pasos en codigo podemos deducir que una tabla es un grupo.",
      "metadata": {}
    },
    {
      "cell_type": "code",
      "source": "",
      "metadata": {},
      "execution_count": null,
      "outputs": []
    }
  ]
}