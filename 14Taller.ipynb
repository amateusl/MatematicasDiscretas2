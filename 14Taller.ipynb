{
  "metadata": {
    "language_info": {
      "codemirror_mode": {
        "name": "python",
        "version": 3
      },
      "file_extension": ".py",
      "mimetype": "text/x-python",
      "name": "python",
      "nbconvert_exporter": "python",
      "pygments_lexer": "ipython3",
      "version": "3.8"
    },
    "kernelspec": {
      "name": "python",
      "display_name": "Python (Pyodide)",
      "language": "python"
    }
  },
  "nbformat_minor": 4,
  "nbformat": 4,
  "cells": [
    {
      "cell_type": "markdown",
      "source": "Encuentre un entero positivo  n  tal que  3**2|n ,  4**2|n+1 ,  5**2|n+2",
      "metadata": {}
    },
    {
      "cell_type": "code",
      "source": "def chino_resto(a, m):\n    \"\"\"\n    Algoritmo chino del resto para encontrar una solución única\n    del sistema de congruencias x ≡ a[i] (mod m[i]).\n    \"\"\"\n    M = 1\n    for mi in m:\n        M *= mi\n    y = [M // mi for mi in m]\n    z = [pow(yi, -1, mi) for yi, mi in zip(y, m)]\n    x = sum(ai * yi * zi for ai, yi, zi in zip(a, y, z)) % M\n    return x\n\na = [0, -1, -2]  # residuos\nm = [9, 16, 25]  # módulos\nn = chino_resto(a, m)\nprint(n)\n",
      "metadata": {
        "trusted": true
      },
      "execution_count": 3,
      "outputs": [
        {
          "name": "stdout",
          "text": "2223\n",
          "output_type": "stream"
        }
      ]
    }
  ]
}