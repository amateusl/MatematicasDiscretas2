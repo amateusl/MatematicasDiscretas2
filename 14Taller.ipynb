{
  "metadata": {
    "language_info": {
      "codemirror_mode": {
        "name": "python",
        "version": 3
      },
      "file_extension": ".py",
      "mimetype": "text/x-python",
      "name": "python",
      "nbconvert_exporter": "python",
      "pygments_lexer": "ipython3",
      "version": "3.8"
    },
    "kernelspec": {
      "name": "python",
      "display_name": "Python (Pyodide)",
      "language": "python"
    }
  },
  "nbformat_minor": 4,
  "nbformat": 4,
  "cells": [
    {
      "cell_type": "markdown",
      "source": "Encuentre un entero positivo  n  tal que  3**2|n ,  4**2|n+1 ,  5**2|n+2",
      "metadata": {}
    },
    {
      "cell_type": "code",
      "source": "n = 1\nwhile True:\n    if n % 9 == 0 and (n+1) % 16 == 0 and (n+2) % 25 == 0:\n        print(n)\n        break\n    n += 1\n",
      "metadata": {
        "trusted": true
      },
      "execution_count": 5,
      "outputs": [
        {
          "name": "stdout",
          "text": "2223\n",
          "output_type": "stream"
        }
      ]
    }
  ]
}